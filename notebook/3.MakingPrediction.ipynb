{
 "cells": [
  {
   "cell_type": "code",
   "execution_count": 1,
   "metadata": {},
   "outputs": [
    {
     "name": "stderr",
     "output_type": "stream",
     "text": [
      "2023-08-20 19:32:55.460353: I tensorflow/core/platform/cpu_feature_guard.cc:182] This TensorFlow binary is optimized to use available CPU instructions in performance-critical operations.\n",
      "To enable the following instructions: AVX2 FMA, in other operations, rebuild TensorFlow with the appropriate compiler flags.\n",
      "2023-08-20 19:32:56.558968: W tensorflow/compiler/tf2tensorrt/utils/py_utils.cc:38] TF-TRT Warning: Could not find TensorRT\n"
     ]
    }
   ],
   "source": [
    "import tensorflow as tf\n",
    "import os\n",
    "import json\n",
    "import librosa\n",
    "import numpy as np\n",
    "DATA_PATH = 'data.json'\n",
    "MODEL_PATH = 'model.h5'\n",
    "os.environ['TF_FORCE_GPU_ALLOW_GROWTH'] = 'true'\n"
   ]
  },
  {
   "cell_type": "code",
   "execution_count": 2,
   "metadata": {},
   "outputs": [
    {
     "name": "stdout",
     "output_type": "stream",
     "text": [
      "true\n"
     ]
    }
   ],
   "source": [
    "import os\n",
    "print(os.environ.get('TF_FORCE_GPU_ALLOW_GROWTH'))"
   ]
  },
  {
   "cell_type": "code",
   "execution_count": 3,
   "metadata": {},
   "outputs": [
    {
     "name": "stdout",
     "output_type": "stream",
     "text": [
      "/usr/local/cuda\n"
     ]
    }
   ],
   "source": [
    "print(os.environ.get('CUDA_HOME'))\n"
   ]
  },
  {
   "cell_type": "code",
   "execution_count": 4,
   "metadata": {},
   "outputs": [],
   "source": [
    "# os.environ['TF_FORCE_GPU_ALLOW_GROWTH'] = 'true'\n"
   ]
  },
  {
   "cell_type": "code",
   "execution_count": 5,
   "metadata": {},
   "outputs": [],
   "source": [
    "# open\n",
    "with open(DATA_PATH, 'r') as f:\n",
    "    data = json.load(f)"
   ]
  },
  {
   "cell_type": "code",
   "execution_count": 6,
   "metadata": {},
   "outputs": [
    {
     "data": {
      "text/plain": [
       "'two'"
      ]
     },
     "execution_count": 6,
     "metadata": {},
     "output_type": "execute_result"
    }
   ],
   "source": [
    "data['mappings'][0]"
   ]
  },
  {
   "cell_type": "code",
   "execution_count": 7,
   "metadata": {},
   "outputs": [],
   "source": [
    "class _Keyword_Spotting_Serveice:\n",
    "    model = None\n",
    "    _mapping = data['mappings'].copy()\n",
    "    _instance = None\n",
    "\n",
    "    def predict(self, file_path):\n",
    "        # extract MFCCs\n",
    "        MFCCs = self.preprocess(file_path)\n",
    "\n",
    "        # convert 2d MFCCs array into 4d array\n",
    "        MFCCs = MFCCs[np.newaxis, ..., np.newaxis]\n",
    "\n",
    "        # make prediction\n",
    "        predictions = self.model.predict(MFCCs)\n",
    "        predicted_index = np.argmax(predictions)\n",
    "        predicted_keyword = self._mapping[predicted_index]\n",
    "        return predicted_keyword\n",
    "    \n",
    "    def preprocess(self, file_path, n_mfcc=13, n_fft=2048, hop_length=512):\n",
    "\n",
    "        # load audio file\n",
    "        signal, sr = librosa.load(file_path)\n",
    "        # ensure consistency in the audio file length\n",
    "        if len(signal) >= 22050:\n",
    "            signal = signal[:22050]\n",
    "\n",
    "            # extract MFCCs\n",
    "            MFCCs = librosa.feature.mfcc(y=signal, n_mfcc=n_mfcc, \n",
    "                                         n_fft=n_fft, hop_length=hop_length)\n",
    "            \n",
    "            return MFCCs.T\n",
    "    "
   ]
  },
  {
   "cell_type": "code",
   "execution_count": 9,
   "metadata": {},
   "outputs": [
    {
     "name": "stdout",
     "output_type": "stream",
     "text": [
      "1/1 [==============================] - 0s 38ms/step\n"
     ]
    }
   ],
   "source": [
    "def Keyword_Spotting_Serveice():\n",
    "\n",
    "    # ensure that we only have 1 instance of KSS\n",
    "    if _Keyword_Spotting_Serveice._instance is None:\n",
    "        _Keyword_Spotting_Serveice._instance = _Keyword_Spotting_Serveice()\n",
    "        _Keyword_Spotting_Serveice.model     = tf.keras.models.load_model(MODEL_PATH)\n",
    "\n",
    "    return _Keyword_Spotting_Serveice._instance\n",
    "\n",
    "\n",
    "\n",
    "if __name__ == \"__main__\":\n",
    "    kss = Keyword_Spotting_Serveice()\n",
    "    labels = kss.predict('/home/long/Source-Code/SpechCommandAppication/archive/augmented_dataset/augmented_dataset/tree/2.wav')"
   ]
  },
  {
   "cell_type": "code",
   "execution_count": 10,
   "metadata": {},
   "outputs": [
    {
     "name": "stdout",
     "output_type": "stream",
     "text": [
      "tree\n"
     ]
    }
   ],
   "source": [
    "print(labels)"
   ]
  },
  {
   "cell_type": "code",
   "execution_count": null,
   "metadata": {},
   "outputs": [],
   "source": []
  }
 ],
 "metadata": {
  "kernelspec": {
   "display_name": "Python 3",
   "language": "python",
   "name": "python3"
  },
  "language_info": {
   "codemirror_mode": {
    "name": "ipython",
    "version": 3
   },
   "file_extension": ".py",
   "mimetype": "text/x-python",
   "name": "python",
   "nbconvert_exporter": "python",
   "pygments_lexer": "ipython3",
   "version": "3.8.10"
  },
  "orig_nbformat": 4
 },
 "nbformat": 4,
 "nbformat_minor": 2
}
